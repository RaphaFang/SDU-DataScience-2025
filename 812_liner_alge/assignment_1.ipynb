{
 "cells": [
  {
   "cell_type": "code",
   "execution_count": 69,
   "id": "25f7243f",
   "metadata": {},
   "outputs": [],
   "source": [
    "import numpy as np\n",
    "import matplotlib.pyplot as plt\n",
    "import random"
   ]
  },
  {
   "cell_type": "markdown",
   "id": "b47ecf94",
   "metadata": {
    "vscode": {
     "languageId": "latex"
    }
   },
   "source": [
    "## Subproblem 1\n",
    "\n",
    "I take the range from 246 to 6 (having 10 for each step) to better visualize the difference in depth times alpha later on.\n",
    "\n",
    "And avoid having '0', which that element will not react to the operation in Subproblem 2.\n"
   ]
  },
  {
   "cell_type": "code",
   "execution_count": 70,
   "id": "6324ed03",
   "metadata": {},
   "outputs": [
    {
     "data": {
      "image/png": "[encoded data removed]",
      "text/plain": [
       "<Figure size 640x480 with 1 Axes>"
      ]
     },
     "metadata": {},
     "output_type": "display_data"
    }
   ],
   "source": [
    "A = np.array([[246, 236, 226, 216, 206], \n",
    "              [196, 186, 176, 166, 156], \n",
    "              [146, 136, 126, 116, 106], \n",
    "              [96, 86, 76, 66, 56], \n",
    "              [46, 36, 26, 16, 6]])\n",
    "\n",
    "plt.imshow(A, cmap='gray_r', vmin=1, vmax=256)\n",
    "plt.show()"
   ]
  },
  {
   "cell_type": "markdown",
   "id": "9df53fd5",
   "metadata": {},
   "source": [
    "## Subproblem 2.1\n",
    "\n",
    "First, we generate the alpha in the range 0 to 1 by a random number.\n",
    "\n",
    "We don't need to set alpha in a numpy datatype, nor a 5*5 array to get the calculation,\n",
    "since we can use broadcasting in numpy to make our code in a simple way.\n"
   ]
  },
  {
   "cell_type": "code",
   "execution_count": 71,
   "id": "69352c95",
   "metadata": {},
   "outputs": [
    {
     "name": "stdout",
     "output_type": "stream",
     "text": [
      "0.5700000000000001\n"
     ]
    },
    {
     "data": {
      "image/png": "[encoded data removed]",
      "text/plain": [
       "<Figure size 640x480 with 1 Axes>"
      ]
     },
     "metadata": {},
     "output_type": "display_data"
    }
   ],
   "source": [
    "alpha = random.randint(1,100)*0.01\n",
    "print(alpha)\n",
    "\n",
    "plt.imshow(A*alpha, cmap='gray_r', vmin=1, vmax=256)\n",
    "plt.show()"
   ]
  },
  {
   "cell_type": "markdown",
   "id": "6110fab6",
   "metadata": {},
   "source": [
    "## Subproblem 2.2\n",
    "\n",
    "I set the np.array B to be a reversed A array, and set C as the result of computation."
   ]
  },
  {
   "cell_type": "code",
   "execution_count": 72,
   "id": "9b070f16",
   "metadata": {},
   "outputs": [
    {
     "name": "stdout",
     "output_type": "stream",
     "text": [
      "0.5700000000000001\n",
      "[[142.8 141.4 140.  138.6 137.2]\n",
      " [135.8 134.4 133.  131.6 130.2]\n",
      " [128.8 127.4 126.  124.6 123.2]\n",
      " [121.8 120.4 119.  117.6 116.2]\n",
      " [114.8 113.4 112.  110.6 109.2]]\n"
     ]
    },
    {
     "data": {
      "image/png": "[encoded data removed]",
      "text/plain": [
       "<Figure size 640x480 with 1 Axes>"
      ]
     },
     "metadata": {},
     "output_type": "display_data"
    }
   ],
   "source": [
    "B = np.array([[6, 16, 26, 36, 46], \n",
    "              [56, 66, 76, 86, 96], \n",
    "              [106, 116, 126, 136, 146], \n",
    "              [156, 166, 176, 186, 196], \n",
    "              [206, 216, 226, 236, 246]])\n",
    "\n",
    "C = alpha*A + (1-alpha)*B\n",
    "print(alpha)\n",
    "print(C)\n",
    "\n",
    "plt.imshow(C, cmap='gray_r', vmin=1, vmax=256)\n",
    "plt.show()"
   ]
  },
  {
   "cell_type": "markdown",
   "id": "c7a18b8c",
   "metadata": {},
   "source": [
    "## Subproblem 2.3\n",
    "\n",
    "The calculation and graph above display if we want to show 2 images in the same layer simultaneously, by adjusting the transparency of each layer.\n",
    "\n",
    "As we can see at the Subproblem 2.2. Since I set B as a reversed A array, and the ratio of the weight for A&B is 1:(1-α).\n",
    "\n",
    "If the α is closed to 0.5, we will get a graph that having almost the uniform grey-depth."
   ]
  },
  {
   "cell_type": "markdown",
   "id": "94281942",
   "metadata": {},
   "source": [
    "## Subproblem 3"
   ]
  },
  {
   "cell_type": "code",
   "execution_count": 73,
   "id": "be303478",
   "metadata": {},
   "outputs": [
    {
     "name": "stdout",
     "output_type": "stream",
     "text": [
      "A_rank:  2\n",
      "B_rank:  2\n",
      "C_rank:  2\n",
      "D_rank (5*5):  5\n",
      "E_rank (500*500):  500\n",
      "F_rank (500*500):  5000\n"
     ]
    }
   ],
   "source": [
    "A_rank = np.linalg.matrix_rank(A)\n",
    "B_rank = np.linalg.matrix_rank(B)\n",
    "C_rank = np.linalg.matrix_rank(C)\n",
    "\n",
    "print(\"A_rank: \",A_rank)\n",
    "print(\"B_rank: \",B_rank)\n",
    "print(\"C_rank: \",C_rank)\n",
    "\n",
    "D = np.random.randint(0, 256, (5,5))\n",
    "D_rank = np.linalg.matrix_rank(D)\n",
    "print(\"D_rank (5*5): \",D_rank)\n",
    "\n",
    "E = np.random.randint(0, 256, (500,500))\n",
    "E_rank = np.linalg.matrix_rank(E)\n",
    "print(\"E_rank (500*500): \",E_rank)\n",
    "\n",
    "F = np.random.randint(0, 256, (5000,5000))\n",
    "F_rank = np.linalg.matrix_rank(F)\n",
    "print(\"F_rank (500*500): \",F_rank)"
   ]
  },
  {
   "cell_type": "markdown",
   "id": "2df05733",
   "metadata": {},
   "source": [
    "From the results, we can see A, B, and C have the same rank. \n",
    "\n",
    "This is because they have a similar structure, which each element in the row is sharing unified gap in the matrix. Although having multiple rows, each row shares the same relationship in the matrix, which means the extra rows do not contribute new information to the matrix. \n",
    "\n",
    "If the element in the matrix don't share the pattern or widely distributed, the rank of this matrix will almost be the number of the row.\n",
    "In the case of E and F, the random numbers make each row independent of the others. Therefore, the rank equals to the number of rows."
   ]
  }
 ],
 "metadata": {
  "kernelspec": {
   "display_name": "Python (dev-env)",
   "language": "python",
   "name": "dev-env"
  },
  "language_info": {
   "codemirror_mode": {
    "name": "ipython",
    "version": 3
   },
   "file_extension": ".py",
   "mimetype": "text/x-python",
   "name": "python",
   "nbconvert_exporter": "python",
   "pygments_lexer": "ipython3",
   "version": "3.13.7"
  }
 },
 "nbformat": 4,
 "nbformat_minor": 5
}
