{
 "cells": [
  {
   "cell_type": "markdown",
   "id": "8842084c",
   "metadata": {
    "vscode": {
     "languageId": "raw"
    }
   },
   "source": [
    "---\n",
    "#### 1. Interpreted Language Question: \n",
    "\n",
    ">What does it mean that Python is an interpreted language? \n",
    "\n",
    ">How does this influence the way Python programs are executed and debugged compared to compiled languages? \n",
    "\n",
    "\n",
    "\n",
    "_**answer**_"
   ]
  },
  {
   "cell_type": "raw",
   "id": "88ecca3b",
   "metadata": {
    "vscode": {
     "languageId": "raw"
    }
   },
   "source": [
    "It means Python compiles its code at runtime, you don't need to compile it into machine code before running it. \n",
    "However, this will slower the speed when two types of language doing the same work, \n",
    "because the interpreter in Python has to translate each line and each time while running the file.\n",
    "\n",
    "In terms of debugging, you can still get the result from line 99, given that you have a syntax/runtime error at line 100. \n",
    "But in compiled languages, syntax error will block you in first hand. \n",
    "While executed the program, you can test part of your Python code easier in jupyter notebook, base on the advantages of interpreted language. \n",
    "In compiled languages, you have to fully compile the program before getting the result."
   ]
  },
  {
   "cell_type": "markdown",
   "id": "656f8d33",
   "metadata": {
    "vscode": {
     "languageId": "plaintext"
    }
   },
   "source": [
    "---\n",
    "#### 2. Execution Methods\n",
    "Compare the following three ways of running a Python program:\n",
    "\n",
    ">(a) Using the \"Run\" button in an IDE (VS Code)\n",
    "\n",
    ">(b) Executing the script via the command-line console\n",
    "\n",
    ">(c) Running code line-by-line in the Python interpreter (REPL)\n",
    "\n",
    "What are the differences in behavior, use cases, and feedback provided to the programmer?\n",
    "\n",
    "\n",
    "_**answer**_\n",
    "\n"
   ]
  },
  {
   "cell_type": "raw",
   "id": "bfcf541d",
   "metadata": {
    "vscode": {
     "languageId": "raw"
    }
   },
   "source": [
    "In behavior, \n",
    "(a) & (b) works the same, the running bottom in (a) is just a different way to command \"python3 XXX.py\", base on the extension you choose.\n",
    "(c) is an interaction mode, runs line by line depends on what you command.\n",
    "And 3 ways could be work on the same .venv and same version of Python as well, depends on which 'source' you choose.\n",
    "\n",
    "In use case, \n",
    "(a) & (b) could be use in the case which you want to run the whole file in on time. \n",
    "(c) can be used in the case you want to run line by line, which might happened in a small project or test.\n",
    "\n",
    "In feedback provided to the programmer,\n",
    "(a) & (b) and (c) work the same, but the way (c) report the error of the line number in a different way.\n",
    "It reports a relative error line number counted by the block you command each time.\n",
    "Moreover, we could take this feature as a way to check if Python in certain container installed the library you want.\n",
    "e.g. import numpy, to check if the library installed or not."
   ]
  },
  {
   "cell_type": "markdown",
   "id": "cf6d36f8",
   "metadata": {
    "vscode": {
     "languageId": "plaintext"
    }
   },
   "source": [
    "---\n",
    "#### 3. Data Type Classification\n",
    "Consider the following list of drink sizes described in German:\n",
    "\n",
    "List of available drink sizes, python data type\n",
    "```python\n",
    "drink_sizes = [\n",
    " \"klein\",\n",
    " \"mittelgroß\",\n",
    " \"groß\",\n",
    " \"sehr groß\",\n",
    " \"0.2l\",\n",
    " \"0.4l\",\n",
    " \"0.5l\"]\n",
    "```\n",
    ">1. What Python data type is used here?\n",
    "\n",
    ">2. To what data type classification (nominal, ordinal, numeric) do they belong?\n",
    "\n",
    ">3. Could this list be improved or restructured to better reflect the nature of the data?\n",
    "\n",
    ">4. Discuss whether all elements belong to the same conceptual category and how that affects data modeling."
   ]
  },
  {
   "cell_type": "raw",
   "id": "d42707d6",
   "metadata": {
    "vscode": {
     "languageId": "raw"
    }
   },
   "source": [
    "1. list\n",
    "\n",
    "2. nominal\n",
    "\n",
    "3. It will be more clear and useful for we focus on using only one type of metric. \n",
    "For example, if we state the type only on numeric, we could build a function telling us which category the input belongs, by comparing the size of it.\n",
    "\n",
    "4. No, the conceptual category are different in this list. \n",
    "\"klein\", \"mittelgroß\", \"groß\", \"sehr groß\" are base on the relative measure. \n",
    "\"0.2l\", \"0.4l\", \"0.5l\" are base on absolute measure."
   ]
  },
  {
   "cell_type": "markdown",
   "id": "4f8efb81",
   "metadata": {},
   "source": [
    "---\n",
    "#### 4. Sensing the Mood:\n",
    "Design a simple program that asks the user: \"How are you doing today?\" The program should respond based on the length of the user's input:\n",
    "\n",
    "(a) If the input is shorter than 10 characters → print \"That was brief!\"\n",
    "\n",
    "(b) If longer than 30 characters → print \"Wow, you had a lot to say!\"\n",
    "\n",
    "(c) Otherwise → print \"Thanks for sharing!\"\n",
    "\n",
    "\n",
    "Your task includes:\n",
    "\n",
    "1. A flowchart of the logic\n",
    "\n",
    "2. Pseudocode outlining the steps\n",
    "\n",
    "3. A Python implementation"
   ]
  },
  {
   "cell_type": "raw",
   "id": "b035bafc",
   "metadata": {
    "vscode": {
     "languageId": "raw"
    }
   },
   "source": [
    "flowchart:\n",
    "\n",
    "ask:\"How are you doing today?\" ----> get the answer and count the characters ----> if the count < 10 ----> print, \"That was brief!\"\n",
    "                                                                             ----> if the count > 30 ----> print, \"Wow, you had a lot to say!\"\n",
    "                                                                             ----> if the count > 10 and count < 30 ----> print, \"Thanks for sharing!\""
   ]
  },
  {
   "cell_type": "markdown",
   "id": "168ad281",
   "metadata": {},
   "source": [
    "Pseudocode:\n",
    "\n",
    "input_sentence = input(\"How are you doing today?\")\n",
    "\n",
    "result = count the length\n",
    "    if result < 10:\n",
    "        print, \"That was brief!\"\n",
    "    elif result < 30:\n",
    "        print, \"Thanks for sharing!\"\n",
    "    else:\n",
    "        print, \"Wow, you had a lot to say!\"\n"
   ]
  },
  {
   "cell_type": "code",
   "execution_count": 3,
   "id": "d40602f9",
   "metadata": {},
   "outputs": [
    {
     "name": "stdout",
     "output_type": "stream",
     "text": [
      "Wow, you had a lot to say!\n"
     ]
    }
   ],
   "source": [
    "input_sentence = input(\"How are you doing today?\")\n",
    "\n",
    "result = len(input_sentence)\n",
    "if result < 10:\n",
    "    print(\"That was brief!\")\n",
    "elif result < 30:\n",
    "    print(\"Thanks for sharing!\")\n",
    "else:\n",
    "    print(\"Wow, you had a lot to say!\")"
   ]
  },
  {
   "cell_type": "markdown",
   "id": "7e911223",
   "metadata": {},
   "source": [
    "---\n",
    "#### 5. Input Validation and User Confirmation\n",
    "Write a Python program that:\n",
    "\n",
    "1. Asks the user for their name, address, and age\n",
    "\n",
    "2. Validates each input (e.g., age must be a number, name must not be empty)\n",
    "\n",
    "3. Displays a confirmation message:\n",
    "\n",
    "> \"The information you entered is &lt;name&gt;, &lt;address&gt;, and &lt;age&gt;. Please confirm your information.\"\n",
    "\n",
    "4. Allows the user to confirm with \"yes\" or \"no\", limiting the number of attempts to confirm the data to 10.\n",
    "\n",
    "##### Tips:\n",
    "- Remember using best practices that we saw in class: e.g., no hardcoding, clear variable names.\n",
    "- Include error handling and user-friendly messages"
   ]
  },
  {
   "cell_type": "code",
   "execution_count": null,
   "id": "f9474992",
   "metadata": {},
   "outputs": [
    {
     "name": "stdout",
     "output_type": "stream",
     "text": [
      "Keep retry, your retry limit: 9\n",
      "ERROR: empty user age or user age is not a number\n",
      "Keep retry, your retry limit: 8\n",
      "Keep retry, your retry limit: 7\n"
     ]
    },
    {
     "data": {
      "text/plain": [
       "'The information you entered is aaa, bbbbbb and 1232123123.'"
      ]
     },
     "execution_count": 25,
     "metadata": {},
     "output_type": "execute_result"
    }
   ],
   "source": [
    "def user_info():\n",
    "    u_name = input(\"Please enter your name.\")\n",
    "    if not u_name:\n",
    "        return (\"ERROR: empty user name\")\n",
    "        \n",
    "    u_adr = input(\"Please enter your address.\")\n",
    "    if not u_adr:\n",
    "        return (\"ERROR: empty user address\")\n",
    "    \n",
    "    u_age = input(\"Please enter your age.\")\n",
    "    if not u_age or not u_age.isnumeric():\n",
    "        return (\"ERROR: empty user age or user age is not a number\")\n",
    "    \n",
    "    return u_name, u_adr, u_age\n",
    "    \n",
    "def user_confirmation(trying_limit):\n",
    "    while trying_limit:\n",
    "        package = user_info()\n",
    "        if isinstance(package, tuple):\n",
    "            u_name, u_adr, u_age = package\n",
    "            u_reply = input(f\"The information you entered is {u_name}, {u_adr} and {u_age}. Please confirm your information by 'yes' or 'no'.\")\n",
    "            if u_reply == 'yes':\n",
    "                return f\"The information you entered is {u_name}, {u_adr} and {u_age}.\"\n",
    "            else:\n",
    "                trying_limit -=1\n",
    "                print(f\"Keep retry, your retry limit: {trying_limit}\")\n",
    "        else:\n",
    "            print(package)\n",
    "            trying_limit -=1\n",
    "            print(f\"Keep retry, your retry limit: {trying_limit}\")\n",
    "            \n",
    "    return \"You hit the limit of retry.\"\n",
    "\n",
    "user_confirmation(10)\n",
    "\n"
   ]
  },
  {
   "cell_type": "markdown",
   "id": "f93faecb",
   "metadata": {},
   "source": [
    "---\n",
    "#### 6. Mutable Data Types\n",
    "Provide two real-life, semantically meaningful, examples for each of the following Python data types:\n",
    "\n",
    "(a) Tuples\n",
    "\n",
    "(b) Lists\n",
    "\n",
    "(c) Dictionaries\n",
    "\n",
    "For each example, explain:\n",
    "\n",
    "1. Why this data type is appropriate\n",
    "\n",
    "2. What advantages it offers in that context"
   ]
  },
  {
   "cell_type": "raw",
   "id": "e909825c",
   "metadata": {
    "vscode": {
     "languageId": "raw"
    }
   },
   "source": [
    "(a) Tuples\n",
    "weekday = (\"Monday\", \"Tuesday\", \"Wednesday\", \"Thursday\", \"Friday\")\n",
    "weekend = (\"Saturday\", \"Sunday\")\n",
    "\n",
    "1. Why this data type is appropriate\n",
    "    Because weekday & weekend are fix data, it will not have any chance to change the elements in it nor append or delete.\n",
    "\n",
    "2. What advantages it offers in that context\n",
    "    It could make sure you not accidentally modified the variable. \n",
    "\n",
    "(b) Lists\n",
    "student_in_801 = [\"Sam\", \"Emily\", \"Jack\"]\n",
    "student_apply_conference = [\"Simon\", \"Mike\", \"Oska\"]\n",
    "\n",
    "1. Why this data type is appropriate\n",
    "    Because we have to keep this data easy to adjust or modify, due to the student in the class or applied for the conference \n",
    "    are easy to change.\n",
    "\n",
    "2. What advantages it offers in that context\n",
    "    We can use append() or pop() to easily modified the list, as well as using index on list to know/change the exact element.\n",
    "\n",
    "(c) Dictionaries\n",
    "personal_info = {'name':\"Sam\", 'address':\"Denmark\", 'job':\"teacher\", 'marriage':None, 'gender':\"male\"}\n",
    "grocery_checklist = {'egg': 10, 'bear':6, 'vegetable':'a mount for a week'}\n",
    "\n",
    "1. Why this data type is appropriate\n",
    "    Because we're storing a bundle of different kinds of data, but relate to same person or same purpose. \n",
    "    Thus, dict is most useful in this case.\n",
    "\n",
    "2. What advantages it offers in that context\n",
    "    We can use index on dict to update the data, as well as adding new information in to the data by data[\"NEW_INFO\"] = \"NEW_INFO_VALUE\",\n",
    "    which operation is not base on the order in the dict. And the time complexity in dict is O(1)."
   ]
  },
  {
   "cell_type": "markdown",
   "id": "bd1ae79f",
   "metadata": {},
   "source": [
    "---\n",
    "#### 7. Debugging and Error Analysis\n",
    "Analyze the following Python code snippet to bake a cake during a given “number of minutes”.\n",
    "\n",
    "1. Identify any errors (syntax, logic, or runtime)\n",
    "2. Provide corrected code\n",
    "3. Add appropriate comments before evaluating conditions, and declaring variables\n",
    "4. Explain why each error occurred and how Python handles such situations\n",
    "\n",
    "#### Python code to \"bake a cake\" ####\n",
    "```python\n",
    "ingredients = [\"flour\", \"sugar\", \"eggs\", \"milk\"]\n",
    "oven_temp = \"180\"\n",
    "    if \"flour\" and \"sugar\" and \"eggs\" in ingredients\n",
    "        print(\"Ingredients are complete!\")\n",
    "else:\n",
    "    print(\"Missing ingredients!\")\n",
    "\n",
    "Print(f\"Preheating oven to, oven_temp, \"degrees Celsius')\n",
    "\n",
    "for i in range(0, 30):\n",
    "    print(\"Baking... minute\", i)\n",
    "    if i == 15:\n",
    "         print(\"Cake is ready!\")\n",
    "        break,\n",
    "\n",
    "print(\"Cake baked successfully\")\n",
    "```"
   ]
  },
  {
   "cell_type": "code",
   "execution_count": null,
   "id": "d976dbaf",
   "metadata": {},
   "outputs": [
    {
     "name": "stdout",
     "output_type": "stream",
     "text": [
      "Missing ingredients!\n"
     ]
    }
   ],
   "source": [
    "ingredients = [\"flour\", \"sugar\", \"eggs\", \"milk\"]\n",
    "oven_temp = \"180\"\n",
    "waiting_time = 15 # better set waiting time, for future adjust\n",
    "if set([\"flour\", \"sugar\", \"eggs\"]).issubset(ingredients): # a better and efficient way to check, and takes what we learn in discrete in use\n",
    "    print(\"Ingredients are complete!\")\n",
    "    print(f\"Preheating oven to, {oven_temp}, 'degrees Celsius'\")\n",
    "\n",
    "    for i in range(waiting_time): \n",
    "        print(\"Baking... minute\", i)\n",
    "\n",
    "    print(\"Cake is ready!\")\n",
    "    print(\"Cake baked successfully\")\n",
    "\n",
    "else:\n",
    "    print(\"Missing ingredients!\") # if lacking any ingredients, we should early return or direct it out the main process "
   ]
  },
  {
   "cell_type": "markdown",
   "id": "b4ccff69",
   "metadata": {},
   "source": [
    "7.1\n",
    "    syntax error: \n",
    "    quotes inconsistent in line 6, \n",
    "    the miss indent on line 4, \n",
    "    the incorrect syntax to check the ingredient on line 4\n",
    "\n",
    "    logic error: \n",
    "    if missing any required ingredient, we should stop the whole process.\n",
    "\n",
    "    runtime error: \n",
    "    if we just need 15s, no need to put a timer for 30s.\n",
    "\n",
    "7.2\n",
    "    correct code as above\n",
    "\n",
    "7.3\n",
    "    comments as above\n",
    "\n",
    "7.4\n",
    "    quotes inconsistent in line 8,                  ----> SyntaxError: unterminated string literal (detected at line 6)\n",
    "    the miss indent on line 3,                      ----> IndentationError: unexpected indent\n",
    "    the incorrect syntax to check the ingredient    ----> it won't raise any Error, but it only check if \"eggs\" in ingredients"
   ]
  },
  {
   "cell_type": "markdown",
   "id": "bb1e7c21",
   "metadata": {},
   "source": [
    "---\n",
    "#### 8. Demographic Statistics\n",
    "Using the “demographics” dictionary provided:\n",
    "\n",
    "1. Calculate the average age of all individuals.\n",
    "2. Count how many individuals live in Odense.\n",
    "3. Determine the gender distribution (how many males and females).\n",
    "4. Print the name(s) of the oldest person(s) in the dataset.\n",
    "\n",
    "Sample dataset:\n",
    "\n",
    "```python\n",
    "demographics = {\n",
    " \"Alice\": {\"age\": 22, \"gender\": \"female\", \"city\": \"Odense\"},\n",
    " \"Bob\": {\"age\": 27, \"gender\": \"male\", \"city\": \"Copenhagen\"},\n",
    " \"Charlie\": {\"age\": 35, \"gender\": \"male\", \"city\": \"Aarhus\"},\n",
    " \"Diana\": {\"age\": 29, \"gender\": \"female\", \"city\": \"Odense\"},\n",
    " \"Elias\": {\"age\": 40, \"gender\": \"male\", \"city\": \"Aalborg\"},\n",
    " \"Freja\": {\"age\": 31, \"gender\": \"female\", \"city\": \"Copenhagen\"},\n",
    " \"Gustav\": {\"age\": 24, \"gender\": \"male\", \"city\": \"Odense\"},\n",
    "}"
   ]
  },
  {
   "cell_type": "code",
   "execution_count": 37,
   "id": "966ea9cf",
   "metadata": {},
   "outputs": [],
   "source": [
    "demographics = {\n",
    "    \"Alice\": {\"age\": 22, \"gender\": \"female\", \"city\": \"Odense\"},\n",
    "    \"Bob\": {\"age\": 27, \"gender\": \"male\", \"city\": \"Copenhagen\"},\n",
    "    \"Charlie\": {\"age\": 35, \"gender\": \"male\", \"city\": \"Aarhus\"},\n",
    "    \"Diana\": {\"age\": 29, \"gender\": \"female\", \"city\": \"Odense\"},\n",
    "    \"Elias\": {\"age\": 40, \"gender\": \"male\", \"city\": \"Aalborg\"},\n",
    "    \"Freja\": {\"age\": 31, \"gender\": \"female\", \"city\": \"Copenhagen\"},\n",
    "    \"Gustav\": {\"age\": 24, \"gender\": \"male\", \"city\": \"Odense\"},\n",
    "}"
   ]
  },
  {
   "cell_type": "code",
   "execution_count": null,
   "id": "295498dd",
   "metadata": {},
   "outputs": [
    {
     "name": "stdout",
     "output_type": "stream",
     "text": [
      "29.714285714285715\n"
     ]
    }
   ],
   "source": [
    "# 1. Calculate the average age of all individuals.\n",
    "age_list = [demographics[n]['age'] for n in demographics] # [22, 27, 35, 29, 40, 31, 24]\n",
    "\n",
    "avg_age = sum(age_list)/len(age_list) \n",
    "print(avg_age) # 29.714285714285715"
   ]
  },
  {
   "cell_type": "code",
   "execution_count": null,
   "id": "2cf89915",
   "metadata": {},
   "outputs": [
    {
     "name": "stdout",
     "output_type": "stream",
     "text": [
      "3\n"
     ]
    }
   ],
   "source": [
    "# 2. Count how many individuals live in Odense.\n",
    "odense_residence_count = sum(1 for n in demographics if demographics[n]['city'] == \"Odense\") \n",
    "print(odense_residence_count) # 3"
   ]
  },
  {
   "cell_type": "code",
   "execution_count": 40,
   "id": "4ec98162",
   "metadata": {},
   "outputs": [
    {
     "name": "stdout",
     "output_type": "stream",
     "text": [
      "7 3 4\n"
     ]
    }
   ],
   "source": [
    "# 3. Determine the gender distribution (how many males and females).\n",
    "\n",
    "sum_both_gender = len(demographics)\n",
    "sum_female = sum(1 for n in demographics if demographics[n]['gender'] == \"female\")\n",
    "sum_male = sum_both_gender - sum_female\n",
    "print(sum_both_gender, sum_female, sum_male) # 7 3 4"
   ]
  },
  {
   "cell_type": "code",
   "execution_count": null,
   "id": "aaf1ff35",
   "metadata": {},
   "outputs": [
    {
     "name": "stdout",
     "output_type": "stream",
     "text": [
      "The oldest is/are Elias, Random_Guy, at 40.\n"
     ]
    }
   ],
   "source": [
    "# 4. Print the name(s) of the oldest person(s) in the dataset.\n",
    "oldest_person = []\n",
    "oldest_age = 0\n",
    "for n in demographics:\n",
    "    if demographics[n]['age'] == oldest_age:\n",
    "        oldest_person.append(n)\n",
    "    if demographics[n]['age'] > oldest_age:\n",
    "        oldest_person.clear()\n",
    "        oldest_person.append(n)\n",
    "        oldest_age = demographics[n]['age']\n",
    "\n",
    "# oldest_person.append('Random_Guy')\n",
    "print(f\"The oldest is/are {', '.join(oldest_person)}, at {oldest_age}.\")\n",
    "# The oldest is/are Elias, Random_Guy, at 40."
   ]
  }
 ],
 "metadata": {
  "kernelspec": {
   "display_name": "Python (dev-env)",
   "language": "python",
   "name": "dev-env"
  },
  "language_info": {
   "codemirror_mode": {
    "name": "ipython",
    "version": 3
   },
   "file_extension": ".py",
   "mimetype": "text/x-python",
   "name": "python",
   "nbconvert_exporter": "python",
   "pygments_lexer": "ipython3",
   "version": "3.13.7"
  }
 },
 "nbformat": 4,
 "nbformat_minor": 5
}
